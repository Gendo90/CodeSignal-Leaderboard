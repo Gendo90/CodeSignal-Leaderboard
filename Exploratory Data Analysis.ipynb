{
 "cells": [
  {
   "cell_type": "code",
   "execution_count": 3,
   "metadata": {},
   "outputs": [],
   "source": [
    "import pandas as pd"
   ]
  },
  {
   "cell_type": "code",
   "execution_count": 4,
   "metadata": {},
   "outputs": [
    {
     "data": {
      "text/html": [
       "<div>\n",
       "<style scoped>\n",
       "    .dataframe tbody tr th:only-of-type {\n",
       "        vertical-align: middle;\n",
       "    }\n",
       "\n",
       "    .dataframe tbody tr th {\n",
       "        vertical-align: top;\n",
       "    }\n",
       "\n",
       "    .dataframe thead th {\n",
       "        text-align: right;\n",
       "    }\n",
       "</style>\n",
       "<table border=\"1\" class=\"dataframe\">\n",
       "  <thead>\n",
       "    <tr style=\"text-align: right;\">\n",
       "      <th></th>\n",
       "      <th>#</th>\n",
       "      <th>CodeSignaler</th>\n",
       "      <th>Level</th>\n",
       "      <th>Country</th>\n",
       "      <th>XP</th>\n",
       "    </tr>\n",
       "  </thead>\n",
       "  <tbody>\n",
       "    <tr>\n",
       "      <th>0</th>\n",
       "      <td>1</td>\n",
       "      <td>lonerz</td>\n",
       "      <td>Level 100</td>\n",
       "      <td>Holy See</td>\n",
       "      <td>4553861</td>\n",
       "    </tr>\n",
       "    <tr>\n",
       "      <th>1</th>\n",
       "      <td>2</td>\n",
       "      <td>AWice</td>\n",
       "      <td>Level 100</td>\n",
       "      <td>Canada</td>\n",
       "      <td>3678454</td>\n",
       "    </tr>\n",
       "    <tr>\n",
       "      <th>2</th>\n",
       "      <td>3</td>\n",
       "      <td>romatua_l</td>\n",
       "      <td>Level 100</td>\n",
       "      <td>Indonesia</td>\n",
       "      <td>3573800</td>\n",
       "    </tr>\n",
       "    <tr>\n",
       "      <th>3</th>\n",
       "      <td>4</td>\n",
       "      <td>flatorez</td>\n",
       "      <td>Level 100</td>\n",
       "      <td>Czech Republic</td>\n",
       "      <td>3429424</td>\n",
       "    </tr>\n",
       "    <tr>\n",
       "      <th>4</th>\n",
       "      <td>5</td>\n",
       "      <td>pythagoras_i</td>\n",
       "      <td>Level 100</td>\n",
       "      <td>Germany</td>\n",
       "      <td>3247495</td>\n",
       "    </tr>\n",
       "    <tr>\n",
       "      <th>...</th>\n",
       "      <td>...</td>\n",
       "      <td>...</td>\n",
       "      <td>...</td>\n",
       "      <td>...</td>\n",
       "      <td>...</td>\n",
       "    </tr>\n",
       "    <tr>\n",
       "      <th>995</th>\n",
       "      <td>996</td>\n",
       "      <td>santosh_savan</td>\n",
       "      <td>Level 69</td>\n",
       "      <td>India</td>\n",
       "      <td>222196</td>\n",
       "    </tr>\n",
       "    <tr>\n",
       "      <th>996</th>\n",
       "      <td>997</td>\n",
       "      <td>tsvetoslav_t</td>\n",
       "      <td>Level 69</td>\n",
       "      <td>Bulgaria</td>\n",
       "      <td>222133</td>\n",
       "    </tr>\n",
       "    <tr>\n",
       "      <th>997</th>\n",
       "      <td>998</td>\n",
       "      <td>stephentran</td>\n",
       "      <td>Level 69</td>\n",
       "      <td>Vietnam</td>\n",
       "      <td>222069</td>\n",
       "    </tr>\n",
       "    <tr>\n",
       "      <th>998</th>\n",
       "      <td>999</td>\n",
       "      <td>artskeem</td>\n",
       "      <td>Level 69</td>\n",
       "      <td>United States</td>\n",
       "      <td>221946</td>\n",
       "    </tr>\n",
       "    <tr>\n",
       "      <th>999</th>\n",
       "      <td>1000</td>\n",
       "      <td>mitiku</td>\n",
       "      <td>Level 69</td>\n",
       "      <td>Ethiopia</td>\n",
       "      <td>221440</td>\n",
       "    </tr>\n",
       "  </tbody>\n",
       "</table>\n",
       "<p>1000 rows × 5 columns</p>\n",
       "</div>"
      ],
      "text/plain": [
       "        #   CodeSignaler      Level         Country       XP\n",
       "0       1         lonerz  Level 100        Holy See  4553861\n",
       "1       2          AWice  Level 100          Canada  3678454\n",
       "2       3      romatua_l  Level 100       Indonesia  3573800\n",
       "3       4       flatorez  Level 100  Czech Republic  3429424\n",
       "4       5   pythagoras_i  Level 100         Germany  3247495\n",
       "..    ...            ...        ...             ...      ...\n",
       "995   996  santosh_savan   Level 69           India   222196\n",
       "996   997   tsvetoslav_t   Level 69        Bulgaria   222133\n",
       "997   998    stephentran   Level 69         Vietnam   222069\n",
       "998   999       artskeem   Level 69   United States   221946\n",
       "999  1000         mitiku   Level 69        Ethiopia   221440\n",
       "\n",
       "[1000 rows x 5 columns]"
      ]
     },
     "execution_count": 4,
     "metadata": {},
     "output_type": "execute_result"
    }
   ],
   "source": [
    "leaderboard_df = pd.read_csv(\"./output/leaderboard_2020-12-17.csv\")\n",
    "leaderboard_df"
   ]
  },
  {
   "cell_type": "code",
   "execution_count": 5,
   "metadata": {},
   "outputs": [
    {
     "data": {
      "text/plain": [
       "United States         242\n",
       "Vietnam               123\n",
       "India                  87\n",
       "Russian Federation     47\n",
       "Germany                37\n",
       "                     ... \n",
       "Ecuador                 1\n",
       "Iraq                    1\n",
       "Greenland               1\n",
       "Paraguay                1\n",
       "Namibia                 1\n",
       "Name: Country, Length: 98, dtype: int64"
      ]
     },
     "execution_count": 5,
     "metadata": {},
     "output_type": "execute_result"
    }
   ],
   "source": [
    "leaderboard_df[\"Country\"].value_counts()"
   ]
  },
  {
   "cell_type": "code",
   "execution_count": 6,
   "metadata": {},
   "outputs": [
    {
     "data": {
      "text/plain": [
       "<matplotlib.axes._subplots.AxesSubplot at 0x19497ea53c8>"
      ]
     },
     "execution_count": 6,
     "metadata": {},
     "output_type": "execute_result"
    },
    {
     "data": {
      "image/png": "[encoded data removed]",
      "text/plain": [
       "<Figure size 432x288 with 1 Axes>"
      ]
     },
     "metadata": {
      "needs_background": "light"
     },
     "output_type": "display_data"
    }
   ],
   "source": [
    "leaderboard_df.plot(x=\"#\", y=\"XP\")"
   ]
  },
  {
   "cell_type": "code",
   "execution_count": 7,
   "metadata": {},
   "outputs": [
    {
     "data": {
      "text/plain": [
       "<matplotlib.axes._subplots.AxesSubplot at 0x1949d3d4488>"
      ]
     },
     "execution_count": 7,
     "metadata": {},
     "output_type": "execute_result"
    },
    {
     "data": {
      "image/png": "[encoded data removed]",
      "text/plain": [
       "<Figure size 432x288 with 1 Axes>"
      ]
     },
     "metadata": {
      "needs_background": "light"
     },
     "output_type": "display_data"
    }
   ],
   "source": [
    "leaderboard_df[\"Country\"].value_counts().head(25).plot(kind=\"bar\")"
   ]
  },
  {
   "cell_type": "code",
   "execution_count": 8,
   "metadata": {},
   "outputs": [
    {
     "data": {
      "text/plain": [
       "United States                 242\n",
       "Vietnam                       123\n",
       "India                          87\n",
       "Russian Federation             47\n",
       "Germany                        37\n",
       "Armenia                        32\n",
       "Mexico                         24\n",
       "Ukraine                        23\n",
       "Poland                         17\n",
       "Romania                        17\n",
       "Iran (Islamic Republic of)     16\n",
       "China                          15\n",
       "Brazil                         13\n",
       "France                         12\n",
       "United Kingdom                 12\n",
       "Indonesia                      12\n",
       "Bangladesh                     11\n",
       "Canada                         11\n",
       "Egypt                          11\n",
       "Cuba                           10\n",
       "Belarus                        10\n",
       "Unknown Country                10\n",
       "Japan                           9\n",
       "Philippines                     9\n",
       "Taiwan                          8\n",
       "Name: Country, dtype: int64"
      ]
     },
     "execution_count": 8,
     "metadata": {},
     "output_type": "execute_result"
    }
   ],
   "source": [
    "leaderboard_df[\"Country\"].value_counts().head(25)"
   ]
  },
  {
   "cell_type": "code",
   "execution_count": 16,
   "metadata": {},
   "outputs": [
    {
     "data": {
      "text/plain": [
       "Level\n",
       "Level 100    3131183\n",
       "Level 99     2880008\n",
       "Level 98     2597176\n",
       "Level 97     2406420\n",
       "Level 96     2174651\n",
       "Level 95     1975769\n",
       "Level 94     1772988\n",
       "Level 93     1565748\n",
       "Level 92     1321732\n",
       "Level 91     1110130\n",
       "Level 90      900037\n",
       "Level 89      883040\n",
       "Level 88      821840\n",
       "Level 87      763021\n",
       "Level 86      704647\n",
       "Level 85      645486\n",
       "Level 84      586278\n",
       "Level 83      527115\n",
       "Level 82      468401\n",
       "Level 81      409186\n",
       "Level 80      350021\n",
       "Level 79      340132\n",
       "Level 78      327495\n",
       "Level 77      314739\n",
       "Level 76      302150\n",
       "Level 75      289641\n",
       "Level 74      277115\n",
       "Level 73      264365\n",
       "Level 72      251760\n",
       "Level 71      238997\n",
       "Level 70      226503\n",
       "Level 69      221440\n",
       "Name: XP, dtype: int64"
      ]
     },
     "execution_count": 16,
     "metadata": {},
     "output_type": "execute_result"
    }
   ],
   "source": [
    "min_XP_per_level = leaderboard_df.groupby(\"Level\").min()[\"XP\"].sort_values(ascending=False, key=lambda x: x.index.map(lambda z: int(z.split(\" \")[-1])))\n",
    "min_XP_per_level"
   ]
  },
  {
   "cell_type": "code",
   "execution_count": 17,
   "metadata": {},
   "outputs": [
    {
     "data": {
      "text/plain": [
       "<matplotlib.axes._subplots.AxesSubplot at 0x1949d680408>"
      ]
     },
     "execution_count": 17,
     "metadata": {},
     "output_type": "execute_result"
    },
    {
     "data": {
      "image/png": "[encoded data removed]",
      "text/plain": [
       "<Figure size 432x288 with 1 Axes>"
      ]
     },
     "metadata": {
      "needs_background": "light"
     },
     "output_type": "display_data"
    }
   ],
   "source": [
    "#looks like the XP required to move up really ramps up after level 80 and especially after level 90!\n",
    "min_XP_per_level.plot(kind=\"bar\")"
   ]
  },
  {
   "cell_type": "code",
   "execution_count": null,
   "metadata": {},
   "outputs": [],
   "source": []
  }
 ],
 "metadata": {
  "kernelspec": {
   "display_name": "Python 3",
   "language": "python",
   "name": "python3"
  },
  "language_info": {
   "codemirror_mode": {
    "name": "ipython",
    "version": 3
   },
   "file_extension": ".py",
   "mimetype": "text/x-python",
   "name": "python",
   "nbconvert_exporter": "python",
   "pygments_lexer": "ipython3",
   "version": "3.7.6"
  }
 },
 "nbformat": 4,
 "nbformat_minor": 4
}
